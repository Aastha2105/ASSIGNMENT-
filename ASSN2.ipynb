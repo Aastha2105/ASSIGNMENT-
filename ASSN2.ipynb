{
 "cells": [
  {
   "cell_type": "markdown",
   "metadata": {},
   "source": [
    "ASSIGNMENT 2"
   ]
  },
  {
   "cell_type": "code",
   "execution_count": 9,
   "metadata": {},
   "outputs": [
    {
     "name": "stdout",
     "output_type": "stream",
     "text": [
      "enter string: hello\n",
      "length of string is 5\n"
     ]
    }
   ],
   "source": [
    "#Q.1\n",
    "a=input(\"enter string: \")\n",
    "count=0\n",
    "for i in a:\n",
    "    count+=1\n",
    "print(\"length of string is\",count)\n"
   ]
  },
  {
   "cell_type": "code",
   "execution_count": 5,
   "metadata": {},
   "outputs": [
    {
     "name": "stdout",
     "output_type": "stream",
     "text": [
      "Enter first value: hello\n",
      "Enter second value: world\n",
      "helloworld\n"
     ]
    }
   ],
   "source": [
    "#Q.2\n",
    "a=input(\"Enter first value: \")\n",
    "b=input(\"Enter second value: \")\n",
    "print(a+b)"
   ]
  },
  {
   "cell_type": "code",
   "execution_count": 12,
   "metadata": {},
   "outputs": [
    {
     "name": "stdout",
     "output_type": "stream",
     "text": [
      "Enter sentence: hello123\n",
      "length of numbers:  3\n",
      "lenth of string:  5\n"
     ]
    }
   ],
   "source": [
    "#Q.3\n",
    "a=input(\"Enter sentence: \")\n",
    "countnum=0\n",
    "countstr=0\n",
    "for i in a:\n",
    "    if (i.isdigit()):\n",
    "        countnum+=1\n",
    "    if (i.isalpha()):\n",
    "        countstr+=1\n",
    "print(\"length of numbers: \",countnum)\n",
    "print(\"lenth of string: \",countstr)"
   ]
  },
  {
   "cell_type": "code",
   "execution_count": 14,
   "metadata": {},
   "outputs": [
    {
     "name": "stdout",
     "output_type": "stream",
     "text": [
      "enter: hello\n",
      "hello\n",
      "HELLO\n"
     ]
    }
   ],
   "source": [
    "#Q.4\n",
    "string=input(\"enter: \")\n",
    "print(string)\n",
    "print(string.upper())"
   ]
  },
  {
   "cell_type": "code",
   "execution_count": 15,
   "metadata": {},
   "outputs": [
    {
     "name": "stdout",
     "output_type": "stream",
     "text": [
      "Enter a sentence: HELLOworld\n",
      "number of uppercase:  5\n",
      "number of lowercase:  5\n"
     ]
    }
   ],
   "source": [
    "#Q.5\n",
    "a=input(\"Enter a sentence: \")\n",
    "countupper=0\n",
    "countlower=0\n",
    "for i in a:\n",
    "    if (i.isupper()):\n",
    "        countupper+=1\n",
    "    if (i.islower()):\n",
    "        countlower+=1\n",
    "print(\"number of uppercase: \",countupper)\n",
    "print(\"number of lowercase: \",countlower)"
   ]
  },
  {
   "cell_type": "code",
   "execution_count": 23,
   "metadata": {},
   "outputs": [
    {
     "name": "stdout",
     "output_type": "stream",
     "text": [
      "enter a sentence: hello WORLD\n",
      "HELLOworld"
     ]
    }
   ],
   "source": [
    "#Q.6\n",
    "string=input(\"enter a sentence: \")\n",
    "for i in string:\n",
    "    if (i.isupper()):\n",
    "        print(i.lower(), end=\"\")\n",
    "    if (i.islower()):\n",
    "        print(i.upper(), end=\"\")"
   ]
  },
  {
   "cell_type": "code",
   "execution_count": 25,
   "metadata": {},
   "outputs": [
    {
     "name": "stdout",
     "output_type": "stream",
     "text": [
      "enter a string: hello\n",
      "enter the letter: l\n",
      "count of letter  l 2\n"
     ]
    }
   ],
   "source": [
    "#Q.7\n",
    "a=input(\"enter a string: \")\n",
    "b=input(\"enter the letter: \")\n",
    "count=0\n",
    "for i in a:\n",
    "    if (i==b):\n",
    "        count+=1\n",
    "    else:\n",
    "        continue\n",
    "print(\"count of letter \",b, count)"
   ]
  },
  {
   "cell_type": "code",
   "execution_count": 28,
   "metadata": {},
   "outputs": [
    {
     "name": "stdout",
     "output_type": "stream",
     "text": [
      "enter a string: naman\n",
      "palindrome\n"
     ]
    }
   ],
   "source": [
    "#Q8.\n",
    "a= input(\"enter a string: \")\n",
    "b=a[::-1]\n",
    "if a==b:\n",
    "    print(\"palindrome\")\n",
    "else:\n",
    "    print(\"not a palindrome\")"
   ]
  },
  {
   "cell_type": "code",
   "execution_count": null,
   "metadata": {},
   "outputs": [],
   "source": [
    "#Q9.\n",
    "x=input(\"enter string: \")\n",
    "y=input(\"enter index no: \")\n",
    "z=input(\"enter change in character: \")\n",
    "w=list(x)\n",
    "w[y]=z\n",
    "x=str(w)\n",
    "print(map(str,x))"
   ]
  },
  {
   "cell_type": "code",
   "execution_count": 2,
   "metadata": {},
   "outputs": [
    {
     "name": "stdout",
     "output_type": "stream",
     "text": [
      "heello\n",
      "ell\n",
      "1\n"
     ]
    }
   ],
   "source": [
    "#Q10.\n",
    "a=input()\n",
    "b= input()\n",
    "print(a.count(b))"
   ]
  },
  {
   "cell_type": "code",
   "execution_count": null,
   "metadata": {},
   "outputs": [],
   "source": [
    "#Q11.\n"
   ]
  },
  {
   "cell_type": "code",
   "execution_count": 1,
   "metadata": {},
   "outputs": [
    {
     "name": "stdout",
     "output_type": "stream",
     "text": [
      "enter: hello\n",
      "olleh\n"
     ]
    }
   ],
   "source": [
    "#Q12.\n",
    "a=input(\"enter: \")\n",
    "print(a[::-1])\n"
   ]
  },
  {
   "cell_type": "code",
   "execution_count": null,
   "metadata": {},
   "outputs": [],
   "source": [
    "#Q13.\n"
   ]
  },
  {
   "cell_type": "code",
   "execution_count": 3,
   "metadata": {},
   "outputs": [
    {
     "name": "stdout",
     "output_type": "stream",
     "text": [
      "enter: hello\n",
      "enter: ell\n",
      "yes\n"
     ]
    }
   ],
   "source": [
    "#Q14.\n",
    "S1=input(\"enter: \")\n",
    "S2= input(\"enter: \")\n",
    "count=S1.count(S2)\n",
    "if count>=1:\n",
    "    print(\"yes\")\n",
    "else:\n",
    "    print(\"no\")"
   ]
  },
  {
   "cell_type": "code",
   "execution_count": null,
   "metadata": {},
   "outputs": [],
   "source": [
    "#Q15.\n",
    "string=input(\"Enter password: \")\n",
    "x=0\n",
    "y=\"!@#$%^&*(),.;:><?/''\\{}[]\"\n",
    "while True:\n",
    "    if (6<len(string)<12):\n",
    "        x=1\n",
    "\n",
    "    else: \n",
    "        print(\"error\")\n",
    "    if string.isalpha():\n",
    "        x=2\n",
    "        if string.isupper() and string.islower():\n",
    "            x=3\n",
    "        \n",
    "        else:\n",
    "            print(\"error\")\n",
    "    if string in y:\n",
    "        x=4\n",
    "    else:\n",
    "        print(\"Error\")\n",
    "\n",
    "    if string.isdigit():\n",
    "        x=5\n",
    "    else:\n",
    "        print(\"error\")\n",
    "if x==5:\n",
    "    print(string, sep=\",\")"
   ]
  }
 ],
 "metadata": {
  "kernelspec": {
   "display_name": "Python 3",
   "language": "python",
   "name": "python3"
  },
  "language_info": {
   "codemirror_mode": {
    "name": "ipython",
    "version": 3
   },
   "file_extension": ".py",
   "mimetype": "text/x-python",
   "name": "python",
   "nbconvert_exporter": "python",
   "pygments_lexer": "ipython3",
   "version": "3.7.3"
  }
 },
 "nbformat": 4,
 "nbformat_minor": 2
}
