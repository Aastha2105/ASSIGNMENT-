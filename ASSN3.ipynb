{
 "cells": [
  {
   "cell_type": "code",
   "execution_count": 2,
   "metadata": {},
   "outputs": [
    {
     "name": "stdout",
     "output_type": "stream",
     "text": [
      "enter a no: 6\n",
      "enter a no3\n",
      "216\n"
     ]
    }
   ],
   "source": [
    "#Q1.\n",
    "def fun(x,y):\n",
    "    return x**y\n",
    "\n",
    "\n",
    "x=int(input(\"enter a no: \"))\n",
    "y=int(input(\"enter a no\"))\n",
    "z=fun(x,y)\n",
    "print(z)"
   ]
  },
  {
   "cell_type": "code",
   "execution_count": 14,
   "metadata": {},
   "outputs": [
    {
     "name": "stdout",
     "output_type": "stream",
     "text": [
      "enterhello\n",
      "enterpython\n"
     ]
    },
    {
     "data": {
      "text/plain": [
       "'hellopython'"
      ]
     },
     "execution_count": 14,
     "metadata": {},
     "output_type": "execute_result"
    }
   ],
   "source": [
    "#Q2.\n",
    "\n",
    "def fun(a,b):\n",
    "    if (len(a)==0 and len(b)==0):\n",
    "        return (\"Hello World\")\n",
    "    else:\n",
    "        return(a+b)\n",
    "a=input(\"enter\")\n",
    "b=input(\"enter\")\n",
    "fun(a,b)"
   ]
  },
  {
   "cell_type": "code",
   "execution_count": 21,
   "metadata": {},
   "outputs": [
    {
     "name": "stdout",
     "output_type": "stream",
     "text": [
      "enter 5\n",
      "0\n",
      "odd\n"
     ]
    }
   ],
   "source": [
    "#Q3.\n",
    "def fun(p):\n",
    "    if (p%2==0):\n",
    "        print(\"1\")\n",
    "    else:\n",
    "        print(\"0\")\n",
    "        \n",
    "a=int(input(\"enter \"))\n",
    "if(fun(a)):\n",
    "    print(\"even\")\n",
    "else:\n",
    "    print(\"odd\")"
   ]
  },
  {
   "cell_type": "code",
   "execution_count": null,
   "metadata": {},
   "outputs": [],
   "source": [
    "#Q4.\n"
   ]
  },
  {
   "cell_type": "code",
   "execution_count": 17,
   "metadata": {},
   "outputs": [
    {
     "name": "stdout",
     "output_type": "stream",
     "text": [
      "enterhello\n",
      "1\n",
      "no\n"
     ]
    }
   ],
   "source": [
    "#Q5.\n",
    "def palindrome(x):\n",
    "    a=x\n",
    "    b=a[::-1]\n",
    "    if(a==b):\n",
    "        print(\"0\")\n",
    "    else:\n",
    "        print(\"1\")\n",
    "a=input(\"enter\")\n",
    "if (palindrome(a)):\n",
    "    print(\"yes\")\n",
    "else:\n",
    "    print(\"no\")\n",
    "\n"
   ]
  },
  {
   "cell_type": "code",
   "execution_count": 23,
   "metadata": {},
   "outputs": [
    {
     "name": "stdout",
     "output_type": "stream",
     "text": [
      "enter hello this is python\n",
      "no of words:  4\n"
     ]
    }
   ],
   "source": [
    "#Q6.\n",
    "c=input(\"enter \")\n",
    "b=c.split(\" \")\n",
    "d=len(b)\n",
    "print(\"no of words: \", d)"
   ]
  },
  {
   "cell_type": "code",
   "execution_count": 27,
   "metadata": {},
   "outputs": [
    {
     "name": "stdout",
     "output_type": "stream",
     "text": [
      "3 nos: 123,23,234\n",
      "maximum  234\n"
     ]
    }
   ],
   "source": [
    "#Q7.\n",
    "a=input(\"3 nos: \")\n",
    "b=a.split(\",\")\n",
    "print(\"maximum \", max(b))"
   ]
  },
  {
   "cell_type": "code",
   "execution_count": 7,
   "metadata": {},
   "outputs": [
    {
     "name": "stdout",
     "output_type": "stream",
     "text": [
      "5\n",
      "11\n",
      "14\n",
      "17\n",
      "23\n",
      "26\n",
      "29\n",
      "35\n",
      "38\n",
      "41\n"
     ]
    }
   ],
   "source": [
    "#Q8.\n",
    "def printing(n1, n2):\n",
    "    count=0\n",
    "    i=1\n",
    "    while True:\n",
    "        if (((3*i)+2)%n2)==0:\n",
    "            i+=1\n",
    "            pass\n",
    "        else:\n",
    "            print(3*i+2)\n",
    "            i+=1\n",
    "            count+=1\n",
    "        if count==n1:\n",
    "            break\n",
    "printing(10,4)"
   ]
  },
  {
   "cell_type": "code",
   "execution_count": 2,
   "metadata": {},
   "outputs": [
    {
     "name": "stdout",
     "output_type": "stream",
     "text": [
      "enter233455\n",
      "554332\n"
     ]
    }
   ],
   "source": [
    "#Q9.\n",
    "x=input(\"enter\")\n",
    "print(x[::-1])"
   ]
  },
  {
   "cell_type": "code",
   "execution_count": 3,
   "metadata": {},
   "outputs": [
    {
     "name": "stdout",
     "output_type": "stream",
     "text": [
      "enter 3445000\n",
      "3445555\n"
     ]
    }
   ],
   "source": [
    "#Q11.\n",
    "a=input(\"enter \")\n",
    "b=a.replace(\"0\",\"5\")\n",
    "print(b)"
   ]
  },
  {
   "cell_type": "code",
   "execution_count": 4,
   "metadata": {},
   "outputs": [
    {
     "name": "stdout",
     "output_type": "stream",
     "text": [
      "enter: 12\n",
      "12\n",
      "24\n",
      "36\n",
      "48\n",
      "60\n",
      "72\n",
      "84\n",
      "96\n",
      "108\n",
      "120\n"
     ]
    }
   ],
   "source": [
    "#Q12.\n",
    "a=int(input(\"enter: \"))\n",
    "for i in range(1,11):\n",
    "    print(i*a)"
   ]
  },
  {
   "cell_type": "code",
   "execution_count": null,
   "metadata": {},
   "outputs": [],
   "source": [
    "#Q13.\n",
    "x= int(input(\"enter: \"))\n",
    "temp=x\n",
    "sum=0\n",
    "while temp!=0:"
   ]
  },
  {
   "cell_type": "code",
   "execution_count": null,
   "metadata": {},
   "outputs": [],
   "source": [
    "\n",
    "    "
   ]
  },
  {
   "cell_type": "code",
   "execution_count": 6,
   "metadata": {},
   "outputs": [
    {
     "name": "stdout",
     "output_type": "stream",
     "text": [
      "enter12334\n",
      "43321\n"
     ]
    }
   ],
   "source": [
    "#Q15. \n",
    "a=input(\"enter\")\n",
    "print(a[::-1])"
   ]
  },
  {
   "cell_type": "code",
   "execution_count": null,
   "metadata": {},
   "outputs": [],
   "source": []
  }
 ],
 "metadata": {
  "kernelspec": {
   "display_name": "Python 3",
   "language": "python",
   "name": "python3"
  }
 },
 "nbformat": 4,
 "nbformat_minor": 2
}
